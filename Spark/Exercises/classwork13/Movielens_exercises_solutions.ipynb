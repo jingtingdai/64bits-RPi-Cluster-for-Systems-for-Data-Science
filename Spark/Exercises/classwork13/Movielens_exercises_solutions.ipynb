{
 "cells": [
  {
   "cell_type": "markdown",
   "metadata": {},
   "source": [
    "# Big Data Analytics with MovieLens Dataset"
   ]
  },
  {
   "cell_type": "markdown",
   "metadata": {},
   "source": [
    "In this Jupyter Notebook, we will use the [MovieLens 20M Dataset](https://grouplens.org/datasets/movielens/20m/) on movie ratings to answer several tasks by using `pySpark`. The exercises are structured as a guideline to get familiar with the Pyspark syntax. Have also a look on the [official pySpark documentation](https://spark.apache.org/docs/latest/api/python/pyspark.html). \n",
    "\n",
    "**Introduction to Movielens dataset**\n",
    "\n",
    "The Introduction exercises have the following goals:\n",
    "- Reading and understanding the schema of our movielens dataset\n",
    "- Calculating some summary statistics of our dataset\n",
    "- Learn how to perform joins and aggregations using Spark\n",
    "\n",
    "This will be also illustrated by guided exercises to get a first understanding of Spark\n",
    "- Guided Exercise 1: Which movies are the most popular ones?\n",
    "- Guided Exercise 2: What are the distinct genres in the Movielens Dataset (RDD)?\n",
    "\n",
    "\n",
    "**Exercises for you:**\n",
    "- Exercise 1: Which movies have the highest number of ratings?\n",
    "- Exercise 2: What's the number of movies in each genre?\n",
    "- Exercise 3: Which movies are a matter of taste?\n"
   ]
  },
  {
   "cell_type": "markdown",
   "metadata": {},
   "source": [
    "## Initialize Sparksession\n",
    "\n",
    "Execute the following cell to initialize a Sparksession:"
   ]
  },
  {
   "cell_type": "code",
   "execution_count": 1,
   "metadata": {},
   "outputs": [
    {
     "name": "stderr",
     "output_type": "stream",
     "text": [
      "Setting default log level to \"WARN\".\n",
      "To adjust logging level use sc.setLogLevel(newLevel). For SparkR, use setLogLevel(newLevel).\n",
      "24/06/29 21:16:33 WARN NativeCodeLoader: Unable to load native-hadoop library for your platform... using builtin-java classes where applicable\n"
     ]
    }
   ],
   "source": [
    "import pyspark\n",
    "from pyspark.sql import SparkSession\n",
    "spark = SparkSession.builder.appName('MovieLens').getOrCreate()\n",
    "sc = spark.sparkContext"
   ]
  },
  {
   "cell_type": "markdown",
   "metadata": {},
   "source": [
    "## Introduction: Reading the dataset"
   ]
  },
  {
   "cell_type": "markdown",
   "metadata": {},
   "source": [
    "Our movielens dataset contains 20 million ratings and 465'000 tag applications applied to 27'000 movies by 138'000 users. It also includs tag genome data with 12 million relevance scores across 1100 tags.\n",
    "\n",
    "The whole dataset contains six CSV files:\n",
    "- genome-scores.csv\n",
    "- genome-tags.csv\n",
    "- links.csv\n",
    "- movies.csv\n",
    "- ratings.csv\n",
    "- tags.csv\n",
    "\n",
    "In this Introduction exercise, we will have a look on the **`movies`** and **`ratings`** dataframes.\n",
    "\n",
    "To read a CSV file in our \"ml-20m\" folder, we access the `DataFrameReader` class through `read` and call the `csv()` method on it. We also specify `option(\"header\", \"true\")` since the first row of the file contains our column names. "
   ]
  },
  {
   "cell_type": "code",
   "execution_count": 2,
   "metadata": {},
   "outputs": [
    {
     "name": "stderr",
     "output_type": "stream",
     "text": [
      "[Stage 1:>                                                          (0 + 1) / 1]\r"
     ]
    },
    {
     "name": "stdout",
     "output_type": "stream",
     "text": [
      "+------+-------+------+----------+\n",
      "|userId|movieId|rating| timestamp|\n",
      "+------+-------+------+----------+\n",
      "|     1|      2|   3.5|1112486027|\n",
      "|     1|     29|   3.5|1112484676|\n",
      "|     1|     32|   3.5|1112484819|\n",
      "|     1|     47|   3.5|1112484727|\n",
      "|     1|     50|   3.5|1112484580|\n",
      "+------+-------+------+----------+\n",
      "only showing top 5 rows\n",
      "\n"
     ]
    },
    {
     "name": "stderr",
     "output_type": "stream",
     "text": [
      "                                                                                \r"
     ]
    }
   ],
   "source": [
    "ratings = spark.read.option(\"header\", \"true\").csv(\"hdfs://rpi0:8020/data/ml-20m/ratings.csv\")\n",
    "ratings.show(5)"
   ]
  },
  {
   "cell_type": "markdown",
   "metadata": {},
   "source": [
    "Each tuple of the `ratings` DataFrame represents one rating (`rating`) for one movie (`movieId`) by one user (`userId`). The ratings ranges from 0.5 stars (worst) up to 5.0 stars (best). \n",
    "\n",
    "We can also have look on the Schema of our dataset (column names and types) by using the `printSchema()` method."
   ]
  },
  {
   "cell_type": "code",
   "execution_count": 3,
   "metadata": {},
   "outputs": [
    {
     "name": "stdout",
     "output_type": "stream",
     "text": [
      "root\n",
      " |-- userId: string (nullable = true)\n",
      " |-- movieId: string (nullable = true)\n",
      " |-- rating: string (nullable = true)\n",
      " |-- timestamp: string (nullable = true)\n",
      "\n"
     ]
    }
   ],
   "source": [
    "ratings.printSchema()"
   ]
  },
  {
   "cell_type": "markdown",
   "metadata": {},
   "source": [
    "Do the same for the `movies.csv` file. What kind of data is available and how does the schema look like?"
   ]
  },
  {
   "cell_type": "code",
   "execution_count": 4,
   "metadata": {},
   "outputs": [
    {
     "name": "stderr",
     "output_type": "stream",
     "text": [
      "[Stage 3:>                                                          (0 + 1) / 1]\r"
     ]
    },
    {
     "name": "stdout",
     "output_type": "stream",
     "text": [
      "+-------+----------------------------------+-------------------------------------------+\n",
      "|movieId|title                             |genres                                     |\n",
      "+-------+----------------------------------+-------------------------------------------+\n",
      "|1      |Toy Story (1995)                  |Adventure|Animation|Children|Comedy|Fantasy|\n",
      "|2      |Jumanji (1995)                    |Adventure|Children|Fantasy                 |\n",
      "|3      |Grumpier Old Men (1995)           |Comedy|Romance                             |\n",
      "|4      |Waiting to Exhale (1995)          |Comedy|Drama|Romance                       |\n",
      "|5      |Father of the Bride Part II (1995)|Comedy                                     |\n",
      "+-------+----------------------------------+-------------------------------------------+\n",
      "only showing top 5 rows\n",
      "\n",
      "root\n",
      " |-- movieId: string (nullable = true)\n",
      " |-- title: string (nullable = true)\n",
      " |-- genres: string (nullable = true)\n",
      "\n"
     ]
    },
    {
     "name": "stderr",
     "output_type": "stream",
     "text": [
      "                                                                                \r"
     ]
    }
   ],
   "source": [
    "movies = spark.read.option(\"header\", \"true\").csv(\"hdfs://rpi0:8020/data/ml-20m/movies.csv\")\n",
    "movies.show(5, truncate = False)\n",
    "\n",
    "movies.printSchema()"
   ]
  },
  {
   "cell_type": "markdown",
   "metadata": {},
   "source": [
    "## Guided Exercise 1: Which movies are the most popular ones?"
   ]
  },
  {
   "cell_type": "markdown",
   "metadata": {},
   "source": [
    "To get the most popular movies, we are looking for the movies with the highest number of ratings. In this task, we assume the number of ratings as a representative for the most popular movies. To do this, we will perform the following *transformations* on the `ratings` DataFrame: \n",
    "- Group by `movieId`\n",
    "- Count the number of users (`userId`) associated with each movie \n",
    "- Rename this column to `num_ratings`\n",
    "- Sort by `num_ratings` in descending order \n",
    "\n",
    "We do these transformations in `pySpark` and store the DataFrame as `most_popular`. Have also a look on the [official pySpark documentation](https://spark.apache.org/docs/latest/api/python/pyspark.html).\n",
    "\n",
    "**HINT**:\n",
    "- Use `agg(count())` to perform an aggregate calculation on grouped data. \n",
    "- Don't forget that transformations are [lazy](https://spark.apache.org/docs/latest/rdd-programming-guide.html#rdd-operations) in spark. We need to call an action (e.g. `show()` for Dataframes, `take()` for RDD's) explicitly to see the results. "
   ]
  },
  {
   "cell_type": "code",
   "execution_count": 5,
   "metadata": {},
   "outputs": [
    {
     "name": "stderr",
     "output_type": "stream",
     "text": [
      "                                                                                \r"
     ]
    },
    {
     "name": "stdout",
     "output_type": "stream",
     "text": [
      "+-------+-----------+\n",
      "|movieId|num_ratings|\n",
      "+-------+-----------+\n",
      "|    296|      67310|\n",
      "|    356|      66172|\n",
      "|    318|      63366|\n",
      "|    593|      63299|\n",
      "|    480|      59715|\n",
      "+-------+-----------+\n",
      "only showing top 5 rows\n",
      "\n"
     ]
    }
   ],
   "source": [
    "from pyspark.sql.functions import *\n",
    "\n",
    "most_popular = ratings.groupBy(\"movieId\").agg(count(\"userId\")).withColumnRenamed(\"count(userId)\", \"num_ratings\").sort(desc(\"num_ratings\"))\n",
    "\n",
    "most_popular.show(5)"
   ]
  },
  {
   "cell_type": "markdown",
   "metadata": {},
   "source": [
    "Unfortunately, the resulting table only contains `movieId` and `num_ratings`. The title of the movie is stored in the `movies` DataFrame. So, we need an inner join of our `most_popular` DataFrame with the `movies` DataFrame on `movieId`."
   ]
  },
  {
   "cell_type": "code",
   "execution_count": 6,
   "metadata": {},
   "outputs": [
    {
     "name": "stderr",
     "output_type": "stream",
     "text": [
      "[Stage 10:>                                                         (0 + 1) / 1]\r"
     ]
    },
    {
     "name": "stdout",
     "output_type": "stream",
     "text": [
      "+-----------------------------------------+-----------+\n",
      "|title                                    |num_ratings|\n",
      "+-----------------------------------------+-----------+\n",
      "|Platoon (1986)                           |15808      |\n",
      "|Pulp Fiction (1994)                      |67310      |\n",
      "|Popeye (1980)                            |3539       |\n",
      "|Last King of Scotland, The (2006)        |4163       |\n",
      "|High School Musical 3: Senior Year (2008)|272        |\n",
      "+-----------------------------------------+-----------+\n",
      "only showing top 5 rows\n",
      "\n"
     ]
    },
    {
     "name": "stderr",
     "output_type": "stream",
     "text": [
      "                                                                                \r"
     ]
    }
   ],
   "source": [
    "most_popular_movies = most_popular.join(movies, most_popular.movieId == movies.movieId)\n",
    "most_popular_movies.select(\"title\", \"num_ratings\").show(5, truncate = False)"
   ]
  },
  {
   "cell_type": "markdown",
   "metadata": {},
   "source": [
    "We now have a list of the most popular (or most rated) movies of our movielens dataset. Have you already watched all of them? :)"
   ]
  },
  {
   "cell_type": "markdown",
   "metadata": {},
   "source": [
    "## Guided Exercise 2: Understanding RDD (Resilient Distributed Datasets) operations\n",
    "\n",
    "We will have a look on two core data abstractions of Spark, namely Dataframes and RDD's.\n",
    "RDDs and DataFrames can be created from external data sources (e.g. HDFS, SQL) or from internal process steps. Dataframes the are easiest abstraction. One can compare Dataframes with a traditional table with columns and rows, which is generally used for handling workflows with structured data. If the data is unstructured (has no schema) and the data needs to be manipulated in non-standard ways, one should use RDD's. Even though our data is structured, we will use some operations on RDD's to understand RDD transformations. \n",
    "\n",
    "Have a look on the Pyspark Documentation for RDD operations [PySpark Package](https://spark.apache.org/docs/1.5.1/api/python/pyspark.html)\n",
    "\n"
   ]
  },
  {
   "cell_type": "markdown",
   "metadata": {},
   "source": [
    "Execute the following cells and try to understand what map(), flatmap() and take() do"
   ]
  },
  {
   "cell_type": "code",
   "execution_count": 7,
   "metadata": {},
   "outputs": [
    {
     "name": "stderr",
     "output_type": "stream",
     "text": [
      "                                                                                \r"
     ]
    },
    {
     "data": {
      "text/plain": [
       "[['movieId', 'title', 'genres'],\n",
       " ['1', 'Toy Story (1995)', 'Adventure|Animation|Children|Comedy|Fantasy'],\n",
       " ['2', 'Jumanji (1995)', 'Adventure|Children|Fantasy'],\n",
       " ['3', 'Grumpier Old Men (1995)', 'Comedy|Romance'],\n",
       " ['4', 'Waiting to Exhale (1995)', 'Comedy|Drama|Romance']]"
      ]
     },
     "execution_count": 7,
     "metadata": {},
     "output_type": "execute_result"
    }
   ],
   "source": [
    "# Load the data into RDD\n",
    "data = sc.textFile(\"hdfs://rpi0:8020/data/ml-20m/movies.csv\")\n",
    "\n",
    "# Split the RDD \n",
    "moviesRDD = data.map(lambda l: l.split(','))\n",
    "moviesRDD.take(5)"
   ]
  },
  {
   "cell_type": "code",
   "execution_count": 8,
   "metadata": {},
   "outputs": [
    {
     "name": "stderr",
     "output_type": "stream",
     "text": [
      "                                                                                \r"
     ]
    },
    {
     "data": {
      "text/plain": [
       "[['genres', 'title', 'movieId'],\n",
       " ['Adventure|Animation|Children|Comedy|Fantasy', 'Toy Story (1995)', '1'],\n",
       " ['Adventure|Children|Fantasy', 'Jumanji (1995)', '2'],\n",
       " ['Comedy|Romance', 'Grumpier Old Men (1995)', '3'],\n",
       " ['Comedy|Drama|Romance', 'Waiting to Exhale (1995)', '4']]"
      ]
     },
     "execution_count": 8,
     "metadata": {},
     "output_type": "execute_result"
    }
   ],
   "source": [
    "# map\n",
    "Reversed = moviesRDD.map(lambda m: m[::-1])\n",
    "Reversed.take(5)"
   ]
  },
  {
   "cell_type": "code",
   "execution_count": 9,
   "metadata": {},
   "outputs": [
    {
     "name": "stderr",
     "output_type": "stream",
     "text": [
      "                                                                                \r"
     ]
    },
    {
     "data": {
      "text/plain": [
       "['movieId',\n",
       " 'title',\n",
       " 'genres',\n",
       " '1',\n",
       " 'Toy Story (1995)',\n",
       " 'Adventure|Animation|Children|Comedy|Fantasy',\n",
       " '2',\n",
       " 'Jumanji (1995)',\n",
       " 'Adventure|Children|Fantasy',\n",
       " '3']"
      ]
     },
     "execution_count": 9,
     "metadata": {},
     "output_type": "execute_result"
    }
   ],
   "source": [
    "# flatMap\n",
    "words = moviesRDD.flatMap(lambda m: list(m))\n",
    "words.take(10)"
   ]
  },
  {
   "cell_type": "markdown",
   "metadata": {},
   "source": [
    "## Extracting Distinct Movie Genres"
   ]
  },
  {
   "cell_type": "markdown",
   "metadata": {},
   "source": [
    "Now we will try to combine these operations above by trying to extract all distinct movie genres in our Movielens data. You need to:\n",
    "- Read the csv file located in (\"ml-20m/movies.csv\")\n",
    "- Split the data and select the corresponding genre column via `map()`\n",
    "- `flatmap()` the data --> **Remark**: Be aware that a movie can contain several genres delimited by `('|')`\n",
    "- Print the results by`take()` the `distinct()` genres\n"
   ]
  },
  {
   "cell_type": "code",
   "execution_count": 10,
   "metadata": {},
   "outputs": [
    {
     "name": "stderr",
     "output_type": "stream",
     "text": [
      "[Stage 14:=============================>                            (1 + 1) / 2]\r"
     ]
    },
    {
     "name": "stdout",
     "output_type": "stream",
     "text": [
      "['Adventure', 'Children', 'Comedy', 'Romance', 'Drama', 'Action', ' The (1995)\"', 'Horror', 'Sci-Fi', 'IMAX']\n"
     ]
    },
    {
     "name": "stderr",
     "output_type": "stream",
     "text": [
      "                                                                                \r"
     ]
    }
   ],
   "source": [
    "movies_rdd=sc.textFile(\"hdfs://rpi0:8020/data/ml-20m/movies.csv\")\n",
    "\n",
    "movies_split= movies_rdd.map(lambda lines:lines.split(','))\n",
    "genres=movies_split.map(lambda line:(line[2]))\n",
    "genre=genres.flatMap(lambda l:l.split('|'))\n",
    "genres_distinct=genre.distinct()\n",
    "\n",
    "print(genres_distinct.take(10))"
   ]
  },
  {
   "cell_type": "markdown",
   "metadata": {},
   "source": [
    "## Exercise 1: Which movies have the highest ratings (in average)?"
   ]
  },
  {
   "cell_type": "markdown",
   "metadata": {},
   "source": [
    "Now we want to see which movies are rated to be the best. We will use the `ratings` DataFrame and: \n",
    "\n",
    "- Group by `movieId` \n",
    "- Calculate the average rating for each movie and rename this column to `avg_rating`\n",
    "- Sort by `avg_rating` in descending order \n",
    "- Join the resulting DataFrame with the `movies` DataFrame to get the movienames.\n",
    "\n",
    "**NOTE** Be sure that you read the movies file in the first part"
   ]
  },
  {
   "cell_type": "code",
   "execution_count": 11,
   "metadata": {},
   "outputs": [
    {
     "name": "stderr",
     "output_type": "stream",
     "text": [
      "[Stage 19:>                                                         (0 + 1) / 1]\r"
     ]
    },
    {
     "name": "stdout",
     "output_type": "stream",
     "text": [
      "+-------+------------------+-------+------------------------+-------------------------------------------+\n",
      "|movieId|avg_rating        |movieId|title                   |genres                                     |\n",
      "+-------+------------------+-------+------------------------+-------------------------------------------+\n",
      "|296    |4.174231169217055 |296    |Pulp Fiction (1994)     |Comedy|Crime|Drama|Thriller                |\n",
      "|1090   |3.919977226720648 |1090   |Platoon (1986)          |Drama|War                                  |\n",
      "|3959   |3.699372603694667 |3959   |Time Machine, The (1960)|Action|Adventure|Sci-Fi                    |\n",
      "|2294   |3.303207714257601 |2294   |Antz (1998)             |Adventure|Animation|Children|Comedy|Fantasy|\n",
      "|6731   |3.5571184995737424|6731   |Day of the Dead (1985)  |Horror|Sci-Fi|Thriller                     |\n",
      "+-------+------------------+-------+------------------------+-------------------------------------------+\n",
      "only showing top 5 rows\n",
      "\n"
     ]
    },
    {
     "name": "stderr",
     "output_type": "stream",
     "text": [
      "                                                                                \r"
     ]
    }
   ],
   "source": [
    "top_rated = ratings.groupBy(\"movieId\").agg(avg(col(\"rating\"))).withColumnRenamed(\"avg(rating)\", \"avg_rating\").sort(desc(\"avg_rating\"))\n",
    "\n",
    "top_rated_movies = top_rated.join(movies, top_rated.movieId == movies.movieId)\n",
    "\n",
    "top_rated_movies.show(5, truncate = False)"
   ]
  },
  {
   "cell_type": "markdown",
   "metadata": {},
   "source": [
    "The resulting Dataframe is maybe not meaningful. We should also consider the number of ratings by doing an aggregation `agg()` call. "
   ]
  },
  {
   "cell_type": "code",
   "execution_count": 12,
   "metadata": {},
   "outputs": [
    {
     "name": "stderr",
     "output_type": "stream",
     "text": [
      "[Stage 23:=============================>                            (2 + 2) / 4]\r"
     ]
    },
    {
     "name": "stdout",
     "output_type": "stream",
     "text": [
      "+-------+-----------+----------+-------+---------------------------------------------------------+-----------+\n",
      "|movieId|num_ratings|avg_rating|movieId|title                                                    |genres     |\n",
      "+-------+-----------+----------+-------+---------------------------------------------------------+-----------+\n",
      "|103871 |2          |5.0       |103871 |Consuming Kids: The Commercialization of Childhood (2008)|Documentary|\n",
      "|108527 |2          |5.0       |108527 |Catastroika (2012)                                       |Documentary|\n",
      "|117314 |1          |5.0       |117314 |Neurons to Nirvana (2013)                                |Documentary|\n",
      "|120134 |1          |5.0       |120134 |Doggiewoggiez! Poochiewoochiez! (2012)                   |Comedy     |\n",
      "|54326  |1          |5.0       |54326  |Sierra, La (2005)                                        |Documentary|\n",
      "+-------+-----------+----------+-------+---------------------------------------------------------+-----------+\n",
      "only showing top 5 rows\n",
      "\n"
     ]
    },
    {
     "name": "stderr",
     "output_type": "stream",
     "text": [
      "                                                                                \r"
     ]
    }
   ],
   "source": [
    "top_rated = ratings.groupBy(\"movieId\").agg(count(\"userId\"), avg(col(\"rating\"))).withColumnRenamed(\"count(userId)\", \"num_ratings\").withColumnRenamed(\"avg(rating)\", \"avg_rating\")\n",
    "\n",
    "top_rated_movies = top_rated.join(movies, top_rated.movieId == movies.movieId).sort(desc(\"avg_rating\"), desc(\"num_ratings\"))\n",
    "\n",
    "top_rated_movies.show(5, truncate = False)"
   ]
  },
  {
   "cell_type": "markdown",
   "metadata": {},
   "source": [
    "All of the movies with `avg_rating` of exactly 5.0 have 2 or less `num_ratings` . We must investigate the distribution of `num_ratings` to only consider movies that have a minimum number of ratings. Let's calculate some summary statistics within Spark."
   ]
  },
  {
   "cell_type": "code",
   "execution_count": 13,
   "metadata": {},
   "outputs": [
    {
     "name": "stderr",
     "output_type": "stream",
     "text": [
      "[Stage 27:======================================>                   (2 + 1) / 3]\r"
     ]
    },
    {
     "name": "stdout",
     "output_type": "stream",
     "text": [
      "+-----------------+----------------+----------------+\n",
      "| avg(num_ratings)|min(num_ratings)|max(num_ratings)|\n",
      "+-----------------+----------------+----------------+\n",
      "|747.8411232425965|               1|           67310|\n",
      "+-----------------+----------------+----------------+\n",
      "\n"
     ]
    },
    {
     "name": "stderr",
     "output_type": "stream",
     "text": [
      "                                                                                \r"
     ]
    }
   ],
   "source": [
    "# Calculate average, minimum, and maximum of num_ratings\n",
    "top_rated_movies.select([mean('num_ratings'), min('num_ratings'), max('num_ratings')]).show(1)"
   ]
  },
  {
   "cell_type": "code",
   "execution_count": 14,
   "metadata": {},
   "outputs": [
    {
     "name": "stderr",
     "output_type": "stream",
     "text": [
      "[Stage 34:>                                                         (0 + 4) / 4]\r"
     ]
    },
    {
     "name": "stdout",
     "output_type": "stream",
     "text": [
      "+-------+-----------+-----------------+-------+--------------------+--------------------+\n",
      "|movieId|num_ratings|       avg_rating|movieId|               title|              genres|\n",
      "+-------+-----------+-----------------+-------+--------------------+--------------------+\n",
      "|    318|      63366|4.446990499637029|    318|Shawshank Redempt...|         Crime|Drama|\n",
      "|    858|      41355|4.364732196832306|    858|Godfather, The (1...|         Crime|Drama|\n",
      "|     50|      47006|4.334372207803259|     50|Usual Suspects, T...|Crime|Mystery|Thr...|\n",
      "|    527|      50054|4.310175010988133|    527|Schindler's List ...|           Drama|War|\n",
      "|   1221|      27398|4.275640557704942|   1221|Godfather: Part I...|         Crime|Drama|\n",
      "+-------+-----------+-----------------+-------+--------------------+--------------------+\n",
      "only showing top 5 rows\n",
      "\n"
     ]
    },
    {
     "name": "stderr",
     "output_type": "stream",
     "text": [
      "                                                                                \r"
     ]
    }
   ],
   "source": [
    "top_rated_movies.where(\"num_ratings > 800\").show(5)"
   ]
  },
  {
   "cell_type": "markdown",
   "metadata": {},
   "source": [
    "## Exercise 2: What's the number of movies in each genre?"
   ]
  },
  {
   "cell_type": "markdown",
   "metadata": {},
   "source": [
    "In this exercise, we want to calculate the number of movies in each genre. This exercise is similar to the guided introduction exercise 2:\n",
    "\n",
    "- Read the csv file located in (\"ml-20m/movies.csv\")\n",
    "- Split the data and select the corresponding genre column via `map()`\n",
    "- `flatmap()` the data --> **Remark**: Be aware that a movie can contain several genres delimited by `('|')`\n",
    "- Have a look on the [official pySpark documentation](https://spark.apache.org/docs/latest/api/python/pyspark.html) and check what the `reduceByKey()` function do. This function is needed to sum up the number of movies in each genre. \n",
    "- Sort the results using the `sortBy()` function\n",
    "- Print the results by`take()`"
   ]
  },
  {
   "cell_type": "code",
   "execution_count": 15,
   "metadata": {},
   "outputs": [
    {
     "name": "stderr",
     "output_type": "stream",
     "text": [
      "                                                                                \r"
     ]
    },
    {
     "name": "stdout",
     "output_type": "stream",
     "text": [
      "[('Drama', 9952), ('Comedy', 6545), ('Romance', 3186), ('Thriller', 3131), ('Action', 2851), ('Crime', 2251), ('Documentary', 1979), ('Horror', 1949), ('Adventure', 1750), ('Sci-Fi', 1394)]\n"
     ]
    }
   ],
   "source": [
    "movies_rdd=sc.textFile(\"hdfs://rpi0:8020/data/ml-20m/movies.csv\")\n",
    "movies_split=movies_rdd.map(lambda lines:lines.split(','))\n",
    "flat_genre=movies_split.map(lambda line:(line[2]))\n",
    "genre=flat_genre.flatMap(lambda l:l.split('|'))\n",
    "genre_kv=genre.map(lambda k:(k,1))\n",
    "genre_count=genre_kv.reduceByKey(lambda k,v: (k+v))\n",
    "\n",
    "genre_sort= genre_count.sortBy(ascending=False, keyfunc = lambda x: x[1])\n",
    "\n",
    "print(genre_sort.take(10))"
   ]
  },
  {
   "cell_type": "markdown",
   "metadata": {},
   "source": [
    "The movielens dataset contains 9952 movies, which belongs to the 'Drama' genre. Also the genres 'Comedy', 'Romance', and 'Thriller' are in high demand. "
   ]
  },
  {
   "cell_type": "markdown",
   "metadata": {},
   "source": [
    "## Exercise 3: Which movies are a matter of taste?"
   ]
  },
  {
   "cell_type": "markdown",
   "metadata": {},
   "source": [
    "As you know, movies are a matter of taste. There are for sure some movies, which you would rate with a 5 whereas your friend rates the same movie with a 2. These are the movies that divide your opinon. Try to find out, which movies belong to this category.\n",
    "\n",
    "**HINT**\n",
    "\n",
    "- We need to consider the standard deviation of the movie ratings\n",
    "- Also, try to consider only movies that have some minimum number of ratings (e.g. 700) \n",
    "- Join with the movies table to get the movie names"
   ]
  },
  {
   "cell_type": "code",
   "execution_count": 16,
   "metadata": {},
   "outputs": [
    {
     "name": "stderr",
     "output_type": "stream",
     "text": [
      "[Stage 42:===================================================>    (11 + 1) / 12]\r"
     ]
    },
    {
     "name": "stdout",
     "output_type": "stream",
     "text": [
      "+-------+-----------+------------------+------------------+\n",
      "|movieId|num_ratings|        avg_rating|        std_rating|\n",
      "+-------+-----------+------------------+------------------+\n",
      "|    296|      67310| 4.174231169217055|0.9760762295742447|\n",
      "|   2162|       2086|2.4223394055608822|1.0929069291260938|\n",
      "|    829|       1821|2.6765513454146075|1.1909661657407078|\n",
      "|   1090|      15808| 3.919977226720648|0.8272067263021854|\n",
      "|   2069|       1128| 3.806294326241135| 0.887868203627674|\n",
      "+-------+-----------+------------------+------------------+\n",
      "only showing top 5 rows\n",
      "\n"
     ]
    },
    {
     "name": "stderr",
     "output_type": "stream",
     "text": [
      "                                                                                \r"
     ]
    }
   ],
   "source": [
    "ratings_stddev = ratings.groupBy(\"movieId\").agg(count(\"userId\").alias(\"num_ratings\"), \n",
    "avg(col(\"rating\")).alias(\"avg_rating\"),stddev(col(\"rating\")).alias(\"std_rating\")).where(\"num_ratings > 700\")\n",
    "\n",
    "ratings_stddev.show(5)"
   ]
  },
  {
   "cell_type": "code",
   "execution_count": 17,
   "metadata": {
    "scrolled": true
   },
   "outputs": [
    {
     "name": "stderr",
     "output_type": "stream",
     "text": [
      "[Stage 48:>                                                         (0 + 5) / 5]\r"
     ]
    },
    {
     "name": "stdout",
     "output_type": "stream",
     "text": [
      "+-----------------------------------+-----------+------------------+\n",
      "|title                              |num_ratings|std_rating        |\n",
      "+-----------------------------------+-----------+------------------+\n",
      "|Plan 9 from Outer Space (1959)     |2304       |1.4201711823223824|\n",
      "|Freddy Got Fingered (2001)         |1550       |1.3504497277537106|\n",
      "|Twilight Saga: Eclipse, The (2010) |884        |1.3485057430514158|\n",
      "|Twilight Saga: New Moon, The (2009)|1135       |1.3367548401080391|\n",
      "|Passion of the Christ, The (2004)  |3130       |1.3354273707057587|\n",
      "+-----------------------------------+-----------+------------------+\n",
      "only showing top 5 rows\n",
      "\n"
     ]
    },
    {
     "name": "stderr",
     "output_type": "stream",
     "text": [
      "                                                                                \r"
     ]
    }
   ],
   "source": [
    "matterofTaste_movies = ratings_stddev.join(movies, ratings_stddev.movieId == movies.movieId)\n",
    "\n",
    "matterofTaste_movies.sort(desc(\"std_rating\")).select(\"title\", \"num_ratings\", \"std_rating\").show(5, truncate = False)"
   ]
  },
  {
   "cell_type": "markdown",
   "metadata": {},
   "source": [
    "Without any surprise, Twilight is a highly debated movie ;) Plan 9 from Outer Space has the largest standard deviation and is thus the movie, that divides the opinion the most.  "
   ]
  }
 ],
 "metadata": {
  "anaconda-cloud": {},
  "kernelspec": {
   "display_name": "Python 3 (ipykernel)",
   "language": "python",
   "name": "python3"
  },
  "language_info": {
   "codemirror_mode": {
    "name": "ipython",
    "version": 3
   },
   "file_extension": ".py",
   "mimetype": "text/x-python",
   "name": "python",
   "nbconvert_exporter": "python",
   "pygments_lexer": "ipython3",
   "version": "3.11.2"
  },
  "toc": {
   "base_numbering": 1,
   "nav_menu": {
    "height": "238px",
    "width": "412px"
   },
   "number_sections": true,
   "sideBar": true,
   "skip_h1_title": false,
   "title_cell": "Table of Contents",
   "title_sidebar": "Contents",
   "toc_cell": false,
   "toc_position": {},
   "toc_section_display": true,
   "toc_window_display": false
  }
 },
 "nbformat": 4,
 "nbformat_minor": 4
}
